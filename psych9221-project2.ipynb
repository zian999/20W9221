{
 "cells": [
  {
   "cell_type": "code",
   "execution_count": 201,
   "metadata": {},
   "outputs": [],
   "source": [
    "# import libraries\n",
    "import numpy as np\n",
    "from scipy.stats import norm\n",
    "import matplotlib.pyplot as plt\n",
    "import glob\n",
    "from copy import deepcopy"
   ]
  },
  {
   "cell_type": "markdown",
   "metadata": {},
   "source": [
    "## Read input data"
   ]
  },
  {
   "cell_type": "code",
   "execution_count": 2,
   "metadata": {},
   "outputs": [],
   "source": [
    "scales = ['0.6', '0.65', '0.7', '0.75', '0.8', '0.85', '0.9', '0.95', '1']\n",
    "n_scales = len(scales)\n",
    "n_faces = 34\n",
    "n_words = 40\n",
    "n_houses = 9\n",
    "\n",
    "\n",
    "# load all images in `./faces/[scale]/polar`\n",
    "faces = np.zeros([n_faces*n_scales, 32*32])\n",
    "for i in range(n_scales):\n",
    "    scale_dir = './faces/' + scales[i]\n",
    "    face_files = glob.glob(scale_dir + '/polar/*.png')\n",
    "    for ii in range(n_faces):\n",
    "        face_ii = plt.imread(face_files[ii], format=\"png\")\n",
    "        faces[i*n_faces+ii] = np.average(face_ii, axis=2).reshape((1, 32*32))\n",
    "face_labels = np.zeros(\n",
    "    [n_faces*n_scales, n_faces+n_words+n_houses+n_words+1]\n",
    ")    # Labels to be used as y. Column 0-33:faces, 34-73: words, 74-82:houses, 83-122:languages nodes, 123:word flag\n",
    "face_labels[:, 0:n_faces] = np.tile(\n",
    "    np.identity(n_faces), (n_scales, 1)\n",
    ")\n",
    "faces = np.hstack((faces, face_labels))\n",
    "\n",
    "# load all images in `./words/[scale]/polar`\n",
    "words = np.zeros([n_words*n_scales, 32*32])\n",
    "for i in range(n_scales):\n",
    "    scale_dir = './words/' + scales[i]\n",
    "    word_files = glob.glob(scale_dir + '/polar/*.png')\n",
    "    for ii in range(n_words):\n",
    "        word_ii = plt.imread(word_files[ii], format=\"png\")\n",
    "        words[i*n_words+ii] = np.average(word_ii, axis=2).reshape((1, 32*32))\n",
    "word_labels = np.zeros(\n",
    "    [n_words*n_scales, n_faces+n_words+n_houses+n_words+1]\n",
    ")\n",
    "word_labels[:, n_faces:(n_faces+n_words)] = np.tile(\n",
    "    np.identity(n_words), (n_scales, 1)\n",
    ")\n",
    "word_labels[:, (n_faces+n_words+n_houses):(n_faces+n_words+n_houses+n_words)] = np.tile(\n",
    "    np.identity(n_words), (n_scales, 1)\n",
    ")\n",
    "word_labels[:, 123] = np.repeat(1, n_words*n_scales)\n",
    "words = np.hstack((words, word_labels))\n",
    "\n",
    "# load all images in `./houses/[scale]/polar`\n",
    "houses = np.zeros([n_houses*n_scales, 32*32])\n",
    "for i in range(n_scales):\n",
    "    scale_dir = './houses/' + scales[i]\n",
    "    house_files = glob.glob(scale_dir + '/polar/*.png')\n",
    "    for ii in range(n_houses):\n",
    "        house_ii = plt.imread(house_files[ii], format=\"png\")\n",
    "        houses[i*n_houses+ii] = np.average(house_ii, axis=2).reshape((1, 32*32))\n",
    "house_labels = np.zeros(\n",
    "    [n_houses*n_scales, n_faces+n_words+n_houses+n_words+1]\n",
    ")\n",
    "house_labels[:, (n_faces+n_words):(n_faces+n_words+n_houses)] = np.tile(\n",
    "    np.identity(n_houses), (n_scales, 1)\n",
    ")\n",
    "houses = np.hstack((houses, house_labels))\n",
    "\n",
    "\n",
    "all_data = np.vstack((faces, words, houses))\n",
    "# input_date: Every row is a stimulus; column 0-1023: grayscale value of a stimulus, \n",
    "# 1024-1057:identity for faces, 1058-1097:identity for words, 1098-1106: identity \n",
    "# for houses, 1107-1146: language unites, 1147: word flags"
   ]
  },
  {
   "cell_type": "code",
   "execution_count": 3,
   "metadata": {},
   "outputs": [
    {
     "data": {
      "text/plain": [
       "(747, 1148)"
      ]
     },
     "execution_count": 3,
     "metadata": {},
     "output_type": "execute_result"
    }
   ],
   "source": [
    "all_data.shape"
   ]
  },
  {
   "cell_type": "code",
   "execution_count": 4,
   "metadata": {},
   "outputs": [],
   "source": [
    "data_train = all_data\n",
    "\n",
    "x_notw = data_train[data_train[:, -1] == 0][:, 0:1024]\n",
    "x_w = data_train[data_train[:, -1] == 1][:, 0:1024]\n",
    "x_notw = np.transpose(x_notw)    # 1024x387\n",
    "x_w = np.transpose(x_w)    # 1024x360\n",
    "\n",
    "y_notw = data_train[data_train[:, 1147] == 0][:, 1024:1107]\n",
    "y_w = data_train[data_train[:, 1147] == 1][:, 1024:1147]\n",
    "y_notw = np.transpose(y_notw)    # 83x387\n",
    "y_w = np.transpose(y_w)    # 123x360"
   ]
  },
  {
   "cell_type": "code",
   "execution_count": 5,
   "metadata": {},
   "outputs": [
    {
     "data": {
      "text/plain": [
       "(1024, 387)"
      ]
     },
     "execution_count": 5,
     "metadata": {},
     "output_type": "execute_result"
    }
   ],
   "source": [
    "x_notw.shape"
   ]
  },
  {
   "cell_type": "code",
   "execution_count": 6,
   "metadata": {},
   "outputs": [
    {
     "data": {
      "text/plain": [
       "(1024, 360)"
      ]
     },
     "execution_count": 6,
     "metadata": {},
     "output_type": "execute_result"
    }
   ],
   "source": [
    "x_w.shape"
   ]
  },
  {
   "cell_type": "code",
   "execution_count": 7,
   "metadata": {},
   "outputs": [
    {
     "data": {
      "text/plain": [
       "(83, 387)"
      ]
     },
     "execution_count": 7,
     "metadata": {},
     "output_type": "execute_result"
    }
   ],
   "source": [
    "y_notw.shape"
   ]
  },
  {
   "cell_type": "code",
   "execution_count": 8,
   "metadata": {},
   "outputs": [
    {
     "data": {
      "text/plain": [
       "(123, 360)"
      ]
     },
     "execution_count": 8,
     "metadata": {},
     "output_type": "execute_result"
    }
   ],
   "source": [
    "y_w.shape"
   ]
  },
  {
   "cell_type": "markdown",
   "metadata": {},
   "source": [
    "## The model"
   ]
  },
  {
   "cell_type": "code",
   "execution_count": 460,
   "metadata": {},
   "outputs": [],
   "source": [
    "##########################################################\n",
    "#####     Our neural netword for faces and words     #####\n",
    "##########################################################\n",
    "\n",
    "\n",
    "# subfunctions and their derivatives we are going to use \n",
    "def Sigmoid(z):\n",
    "    return 1 / (1 + np.exp(-z))\n",
    "\n",
    "def Relu(Z):\n",
    "    return np.maximum(0, Z)\n",
    "\n",
    "def dSigmoid(Z):\n",
    "    s = 1/(1+np.exp(-Z))\n",
    "    return (s * (1-s))\n",
    "\n",
    "def dRelu(x):\n",
    "    x[x<=0] = 0\n",
    "    x[x>0] = 1\n",
    "    return x\n",
    "\n",
    "# not using the mean squared error function as the loss function\n",
    "# use the cross-entropy function as the loss function `nloss`\n",
    "def nloss(y_notw, y_w, Yh_notw, Yh_w):\n",
    "    n_notw = y_notw.shape[1]    # 387\n",
    "    n_w = y_w.shape[1]    # 360\n",
    "    \n",
    "    loss_notw = np.sum(\n",
    "        np.diagonal(\n",
    "            (1./n_notw) * \n",
    "            (\n",
    "                -np.matmul(y_notw, np.log(Yh_notw).T) - \n",
    "                np.matmul(1-y_notw, np.log(1-Yh_notw).T)\n",
    "            )\n",
    "        )\n",
    "    )\n",
    "    loss_w = np.sum(\n",
    "        np.diagonal(\n",
    "            (1./n_w) * \n",
    "            (\n",
    "                -np.matmul(y_w, np.log(Yh_w).T) - \n",
    "                np.matmul(1-y_w, np.log(1-Yh_w).T)\n",
    "            )\n",
    "        )\n",
    "    )\n",
    "    loss = loss_notw + loss_w\n",
    "    return (loss, loss_notw, loss_w)\n",
    "\n",
    "\n",
    "# We create a Python class that setups, initializes and train the network\n",
    "class fwnet():\n",
    "    def __init__(self, data, n_iter = 1000, lr = 0.003):    # data should be 747x1148\n",
    "        self.dims = [1024, 64, 83]\n",
    "        self.lang_unit_n = 40\n",
    "        self.n_iter = n_iter\n",
    "        \n",
    "        self.x_notw = data[data[:, -1] == 0][:, 0:self.dims[0]]\n",
    "        self.x_w = data[data[:, -1] == 1][:, 0:self.dims[0]]\n",
    "        self.x_notw = np.transpose(self.x_notw)    # 1024x387\n",
    "        self.x_w = np.transpose(self.x_w)    # 1024x360\n",
    "\n",
    "        self.y_notw = data[data[:, -1] == 0][:, self.dims[0]:1107]\n",
    "        self.y_w = data[data[:, -1] == 1][:, self.dims[0]:1147]\n",
    "        self.y_notw = np.transpose(self.y_notw)    # 83x387\n",
    "        self.y_w = np.transpose(self.y_w)    # 123x360\n",
    "        \n",
    "        self.n_notw = self.y_notw.shape[1]\n",
    "        self.n_w = self.y_w.shape[1]\n",
    "        \n",
    "        self.Yh_notw = np.zeros((self.dims[2], self.y_notw.shape[1]))    # 83x387\n",
    "        self.Yh_w = np.zeros(((self.dims[2]+self.lang_unit_n), self.y_w.shape[1]))    # 123x360\n",
    "        \n",
    "        self.param = {}    # dictionary that stores weights and betas\n",
    "        self.ch = {}    # cache dictionary that stores intermediate calculation results\n",
    "        \n",
    "        self.loss = np.tile(np.zeros((self.n_iter, 1)), 3)\n",
    "        self.lr = lr\n",
    "        \n",
    "        norm_pd = norm.pdf(np.linspace(0, 31, 32), loc=0, scale=3)\n",
    "        self.bias = np.zeros((32, 32))\n",
    "        for i in range(self.bias.shape[0]):\n",
    "            for j in range(self.bias.shape[1]):\n",
    "                self.bias[i, j] = norm_pd[abs(i-j)]\n",
    "        self.bias = np.tile(self.bias, (2, 32))\n",
    "        return\n",
    "    \n",
    "    \n",
    "    # initialize with random values the parameters of our network\n",
    "    def nInit(self):\n",
    "        # LW1 shape 64x1024\n",
    "        self.param['LW1'] = np.random.randn(self.dims[1], self.dims[0]) / np.sqrt(self.dims[0])\n",
    "        \n",
    "        # Lb1 shape 64x1\n",
    "        self.param['Lb1'] = np.random.normal(size=(self.dims[1], 1))\n",
    "        \n",
    "        # RW1 shape 64x1024\n",
    "        self.param['RW1'] = np.random.randn(self.dims[1], self.dims[0]) / np.sqrt(self.dims[0])\n",
    "        \n",
    "        # Rb1 shape 64x1\n",
    "        self.param['Rb1'] = np.random.normal(size=(self.dims[1], 1))\n",
    "        \n",
    "        \n",
    "        # W2_w and b2_w include identity and language units for both word and notword stimuli\n",
    "        # bottom 40 columns are weights connecting language units, used for words\n",
    "        # W2_w[83:123, 64:128] and b2_w[83:123] should be 0\n",
    "        ## W2_w shape 123x128\n",
    "        self.param['W2_w'] = np.random.randn(\n",
    "            (self.dims[2]+self.lang_unit_n), 2*self.dims[1]\n",
    "        ) / np.sqrt(2*self.dims[1])\n",
    "        ### set weights connecting right fusiform and language units = 0\n",
    "        self.param['W2_w'][83:123, 64:128] = 0\n",
    "        ## b2_w shape 123x1\n",
    "        self.param['b2_w'] = np.random.normal(size=((self.dims[2]+self.lang_unit_n), 1))\n",
    "        ### set betas of connections between right fusiform and language units = 0\n",
    "        self.param['b2_w'][83:123, :] = 0\n",
    "        # top 83 columns only connecting to identity units, used for all stimuli\n",
    "        ## W2 shape 83x128\n",
    "        self.param['W2_notw'] = self.param['W2_w'][0:83, :]\n",
    "        ## b2 shape 83x1\n",
    "        self.param['b2_notw'] = self.param['b2_w'][0:83, :]\n",
    "                \n",
    "        return\n",
    "    \n",
    "    \n",
    "    def forward(self):\n",
    "        #######################################\n",
    "        #####     for notword stimuli     #####\n",
    "        #######################################\n",
    "        # input to intermediate layer\n",
    "        ## left fusiform\n",
    "        LZ1_notw = np.matmul(self.param['LW1'], self.x_notw) + self.param['Lb1']    # 64x387\n",
    "        LA1_notw = Relu(LZ1_notw)    # 64x387\n",
    "        self.ch['LZ1_notw'] = LZ1_notw\n",
    "        self.ch['LA1_notw'] = LA1_notw\n",
    "        ## right fusiform\n",
    "        RZ1_notw = np.matmul(self.param['RW1'], self.x_notw) + self.param['Rb1']    # 64x387\n",
    "        RA1_notw = Relu(RZ1_notw)    # 64x387\n",
    "        self.ch['RZ1_notw'] = RZ1_notw\n",
    "        self.ch['RA1_notw'] = RA1_notw\n",
    "        \n",
    "        # intermediate layer to output\n",
    "#         self.param['W2_notw'] = self.param['W2_w'][0:83, :]\n",
    "#         self.param['b2_notw'] = self.param['b2_w'][0:83, :]\n",
    "        ## combine the two fusiform intermediate layers\n",
    "        Z1_notw = np.vstack((self.ch['LZ1_notw'], self.ch['RZ1_notw']))    # 128x387\n",
    "        A1_notw = np.vstack((self.ch['LA1_notw'], self.ch['RA1_notw']))    # 128x387\n",
    "        self.ch['Z1_notw'] = Z1_notw\n",
    "        self.ch['A1_notw'] = A1_notw\n",
    "        ## calculate Z2 and A2 (identity output)\n",
    "        Z2_notw = np.matmul(self.param['W2_notw'], A1_notw) + self.param['b2_notw']    # 83x387\n",
    "        A2_notw = Sigmoid(Z2_notw)    # 83x387\n",
    "        self.ch['Z2_notw'] = Z2_notw\n",
    "        self.ch['A2_notw'] = A2_notw\n",
    "        \n",
    "        self.Yh_notw = A2_notw    # 83x387\n",
    "        \n",
    "        \n",
    "        ####################################\n",
    "        #####     for word stimuli     #####\n",
    "        ####################################\n",
    "        # input to intermediate layer\n",
    "        ## left fusiform\n",
    "        LZ1_w = np.matmul(self.param['LW1'], self.x_w) + self.param['Lb1']    # 64x360\n",
    "        LA1_w = Relu(LZ1_w)    # 64x360\n",
    "        self.ch['LZ1_w'] = LZ1_w\n",
    "        self.ch['LA1_w'] = LA1_w\n",
    "        ## right fusiform\n",
    "        RZ1_w = np.matmul(self.param['RW1'], self.x_w) + self.param['Rb1']    # 64x360\n",
    "        RA1_w = Relu(RZ1_w)    # 64x360\n",
    "        self.ch['RZ1_w'] = RZ1_w\n",
    "        self.ch['RA1_w'] = RA1_w\n",
    "        \n",
    "        # intermediate layer to output\n",
    "        ## combine the two fusiform intermediate layers\n",
    "        Z1_w = np.vstack((self.ch['LZ1_w'], self.ch['RZ1_w']))    # 128x360\n",
    "        A1_w = np.vstack((self.ch['LA1_w'], self.ch['RA1_w']))    # 128x360\n",
    "        self.ch['Z1_w'] = Z1_w\n",
    "        self.ch['A1_w'] = A1_w\n",
    "        ## calculate Z2 and A2 (identity output)\n",
    "        Z2_w = np.matmul(self.param['W2_w'], A1_w) + self.param['b2_w']    # 123x360\n",
    "        A2_w = Sigmoid(Z2_w)    # 123x360\n",
    "        self.ch['Z2_w'] = Z2_w\n",
    "        self.ch['A2_w'] = A2_w\n",
    "        \n",
    "        self.Yh_w = A2_w    # 123x360\n",
    "        \n",
    "        \n",
    "        loss = nloss(self.y_notw, self.y_w, self.Yh_notw, self.Yh_w)\n",
    "        \n",
    "        return self.Yh_notw, self.Yh_w, loss\n",
    "    \n",
    "    \n",
    "    \n",
    "    # backpropagation\n",
    "    def backward(self):\n",
    "        # calculate the gradients\n",
    "        \n",
    "        #######################################\n",
    "        #####     for notword stimuli     #####\n",
    "        #######################################\n",
    "        dL_Yh_notw = -(\n",
    "            np.divide(self.y_notw, self.Yh_notw) - \n",
    "            np.divide(1 - self.y_notw, 1 - self.Yh_notw)\n",
    "        )    # 83x387\n",
    "        \n",
    "        dL_Z2_notw = dL_Yh_notw * dSigmoid(self.ch['Z2_notw'])    # 83x387\n",
    "        dL_A1_notw = np.matmul(self.param['W2_notw'].T, dL_Z2_notw)    # 128x387\n",
    "        dL_W2_notw = 1./self.ch['A1_notw'].shape[1] * np.matmul(dL_Z2_notw, self.ch['A1_notw'].T)    # 83x128\n",
    "        dL_b2_notw = 1./self.ch['A1_notw'].shape[1] * np.matmul(dL_Z2_notw, np.ones([dL_Z2_notw.shape[1], 1]))    # 83x1\n",
    "        \n",
    "        \n",
    "        # divide dLoss_A1 and dLoss_W2 into dLoss_LA1/dLoss_RA1 and dLoss_LW1/dLoss_RW1\n",
    "        dL_LA1_notw = dL_A1_notw[0:self.dims[1], :]    # 64x387\n",
    "        dL_LW2_notw = dL_W2_notw[:, 0:self.dims[1]]    # 83x64\n",
    "        dL_RA1_notw = dL_A1_notw[self.dims[1]:, :]    # 64x387\n",
    "        dL_RW2_notw = dL_W2_notw[:, self.dims[1]:]    # 83x64\n",
    "        \n",
    "        \n",
    "        dL_LZ1_notw = dL_LA1_notw * dRelu(self.ch['LZ1_notw'])    # 64x387\n",
    "        dL_LA0_notw = np.matmul(self.param['LW1'].T, dL_LZ1_notw)    # 1024x387\n",
    "        dL_LW1_notw = 1./self.x_notw.shape[1] * np.matmul(dL_LZ1_notw, self.x_notw.T)    # 64x1024\n",
    "        dL_Lb1_notw = 1./self.x_notw.shape[1] * np.matmul(dL_LZ1_notw, np.ones([dL_LZ1_notw.shape[1], 1]))    # 64x1\n",
    "        \n",
    "                \n",
    "        dL_RZ1_notw = dL_RA1_notw * dRelu(self.ch['RZ1_notw'])    # 64x387\n",
    "        dL_RA0_notw = np.matmul(self.param['RW1'].T, dL_RZ1_notw)    # 1024x387\n",
    "        dL_RW1_notw = 1./self.x_notw.shape[1] * np.matmul(dL_RZ1_notw, self.x_notw.T)    # 64x1024\n",
    "        dL_Rb1_notw = 1./self.x_notw.shape[1] * np.matmul(dL_RZ1_notw, np.ones([dL_RZ1_notw.shape[1], 1]))    #64x1\n",
    "        \n",
    "        \n",
    "        ####################################\n",
    "        #####     for word stimuli     #####\n",
    "        ####################################\n",
    "        dL_Yh_w = -(\n",
    "            np.divide(self.y_w, self.Yh_w ) - \n",
    "            np.divide(1 - self.y_w, 1 - self.Yh_w)\n",
    "        )    # 123x360\n",
    "        \n",
    "        dL_Z2_w = dL_Yh_w * dSigmoid(self.ch['Z2_w'])    # 123x360\n",
    "        dL_A1_w = np.matmul(self.param['W2_w'].T, dL_Z2_w)    # 128x360\n",
    "        dL_W2_w = 1./self.ch['A1_w'].shape[1] * np.matmul(dL_Z2_w, self.ch['A1_w'].T)    # 123x128\n",
    "        dL_b2_w = 1./self.ch['A1_w'].shape[1] * np.matmul(dL_Z2_w, np.ones([dL_Z2_w.shape[1], 1]))    #123x1\n",
    "        \n",
    "        \n",
    "        \n",
    "        # divide dLoss_A1 and dLoss_W2 into dLoss_LA1/dLoss_RA1 and dLoss_LW1/dLoss_RW1\n",
    "        dL_LA1_w = dL_A1_w[0:self.dims[1], :]    # 64x360\n",
    "        dL_LW2_w = dL_W2_w[:, 0:self.dims[1]]    # 123x64\n",
    "        dL_RA1_w = dL_A1_w[self.dims[1]:, :]    # 64x360\n",
    "        dL_RW2_w = dL_W2_w[:, self.dims[1]:]    # 123x64\n",
    "        \n",
    "        \n",
    "        dL_LZ1_w = dL_LA1_w * dRelu(self.ch['LZ1_w'])    # 64x360\n",
    "        dL_LA0_w = np.matmul(self.param['LW1'].T, dL_LZ1_w)    # 1024x360\n",
    "        dL_LW1_w = 1./self.x_w.shape[1] * np.matmul(dL_LZ1_w, self.x_w.T)    # 64x1024\n",
    "        dL_Lb1_w = 1./self.x_w.shape[1] * np.matmul(dL_LZ1_w, np.ones([dL_LZ1_w.shape[1], 1]))    # 64x1\n",
    "        \n",
    "        \n",
    "        dL_RZ1_w = dL_RA1_w * dRelu(self.ch['RZ1_w'])    # 64x360\n",
    "        dL_RA0_w = np.matmul(self.param['RW1'].T, dL_RZ1_w)    # 1024x360\n",
    "        dL_RW1_w = 1./self.x_w.shape[1] * np.matmul(dL_RZ1_w, self.x_w.T)    # 64x1024\n",
    "        dL_Rb1_w = 1./self.x_w.shape[1] * np.matmul(dL_RZ1_w, np.ones([dL_RZ1_w.shape[1], 1]))    #64x1\n",
    "        \n",
    "        \n",
    "        \n",
    "        # do the backpropagation\n",
    "        \n",
    "        ## input - intermediate layers\n",
    "        ### backpropagation in left fusiform\n",
    "        self.param['LW1'] = self.param['LW1'] - self.lr * self.bias * (dL_LW1_notw + dL_LW1_w)\n",
    "        self.param['Lb1'] = self.param['Lb1'] - self.lr * (dL_Lb1_notw + dL_Lb1_w)\n",
    "        \n",
    "        ### backpropagation in right fusiform\n",
    "        self.param['RW1'] = self.param['RW1'] - self.lr * self.bias * (dL_RW1_notw + dL_RW1_w)\n",
    "        self.param['Rb1'] = self.param['Rb1'] - self.lr * (dL_Rb1_notw + dL_Rb1_w)\n",
    "        \n",
    "        ## intermediate layers - output\n",
    "        ### notword\n",
    "        ### backpropagation for W2_notw and B2_notw\n",
    "        self.param['W2_notw'] = self.param['W2_notw'] - self.lr * dL_W2_notw\n",
    "        self.param['b2_notw'] = self.param['b2_notw'] - self.lr * dL_b2_notw\n",
    "        self.param['W2_w'][0:83, :] = self.param['W2_notw']\n",
    "        self.param['b2_w'][0:83, :] = self.param['b2_notw']\n",
    "        \n",
    "        ### word\n",
    "        ### backpropagation for W2_w and B2_w\n",
    "        self.param['W2_w'] = self.param['W2_w'] - self.lr * dL_W2_w\n",
    "        self.param['W2_w'][83:123, 64:128] = 0\n",
    "        self.param['b2_w'] = self.param['b2_w'] - self.lr * dL_b2_w\n",
    "        self.param['b2_w'][83:123, :] = 0\n",
    "        self.param['W2_notw'] = self.param['W2_w'][0:83, :]\n",
    "        self.param['b2_notw'] = self.param['b2_w'][0:83, :]\n",
    "        \n",
    "        \n",
    "        return\n",
    "    \n",
    "    def pred(self, data):    # data should be 747x1148\n",
    "        x_notw = data[data[:, -1] == 0][:, 0:1024]\n",
    "        x_w = data[data[:, -1] == 1][:, 0:1024]\n",
    "        x_notw = np.transpose(x_notw)    # 1024x387\n",
    "        x_w = np.transpose(x_w)    # 1024x360\n",
    "\n",
    "        y_notw = data[data[:, 1147] == 0][:, 1024:1107]\n",
    "        y_w = data[data[:, 1147] == 1][:, 1024:1147]\n",
    "        y_notw = np.transpose(y_notw)    # 83x387\n",
    "        y_w = np.transpose(y_w)    # 123x360\n",
    "        \n",
    "        results= {}\n",
    "        \n",
    "        #######################################\n",
    "        #####     for notword stimuli     #####\n",
    "        #######################################\n",
    "        # input to intermediate layer\n",
    "        ## left fusiform\n",
    "        LZ1_notw = np.matmul(self.param['LW1'], x_notw) + self.param['Lb1']    # 64x387\n",
    "        LA1_notw = Relu(LZ1_notw)    # 64x387\n",
    "        \n",
    "        ## right fusiform\n",
    "        RZ1_notw = np.matmul(self.param['RW1'], x_notw) + self.param['Rb1']    # 64x387\n",
    "        RA1_notw = Relu(RZ1_notw)    # 64x387\n",
    "        \n",
    "        \n",
    "        # intermediate layer to output\n",
    "        ## combine the two fusiform intermediate layers\n",
    "        Z1_notw = np.vstack((LZ1_notw, RZ1_notw))    # 128x387\n",
    "        A1_notw = np.vstack((LA1_notw, RA1_notw))    # 128x387\n",
    "        \n",
    "        ## calculate Z2 and A2 (identity output)\n",
    "        Z2_notw = np.matmul(self.param['W2_notw'], A1_notw) + self.param['b2_notw']    # 83x387\n",
    "        preds_notw = Sigmoid(Z2_notw)    # 83x387\n",
    "        \n",
    "        \n",
    "        \n",
    "        ####################################\n",
    "        #####     for word stimuli     #####\n",
    "        ####################################\n",
    "        # input to intermediate layer\n",
    "        ## left fusiform\n",
    "        LZ1_w = np.matmul(self.param['LW1'], x_w) + self.param['Lb1']    # 64x360\n",
    "        LA1_w = Relu(LZ1_w)    # 64x360\n",
    "        \n",
    "        ## right fusiform\n",
    "        RZ1_w = np.matmul(self.param['RW1'], x_w) + self.param['Rb1']    # 64x360\n",
    "        RA1_w = Relu(RZ1_w)    # 64x360\n",
    "        \n",
    "        \n",
    "        # intermediate layer to output\n",
    "        ## combine the two fusiform intermediate layers\n",
    "        Z1_w = np.vstack((LZ1_w, RZ1_w))    # 128x360\n",
    "        A1_w = np.vstack((LA1_w, RA1_w))    # 128x360\n",
    "        \n",
    "        ## calculate Z2 and A2 (identity output)\n",
    "        Z2_w = np.matmul(self.param['W2_w'], A1_w) + self.param['b2_w']    # 123x360\n",
    "        preds_w = Sigmoid(Z2_w)    # 123x360\n",
    "        \n",
    "        results['loss'] = nloss(y_notw, y_w, preds_notw, preds_w)\n",
    "        \n",
    "        preds_notw = np.transpose(preds_notw)\n",
    "        preds_w = np.transpose(preds_w)\n",
    "        labels_notw = (preds_notw == preds_notw.max(axis=1)[:,None]).astype(int)\n",
    "        labels_w = np.hstack((\n",
    "            (preds_w[:, 0:83] == preds_w[:, 0:83].max(axis=1)[:,None]).astype(int), \n",
    "            (preds_w[:, 83:] == preds_w[:, 83:].max(axis=1)[:,None]).astype(int)\n",
    "        ))\n",
    "        \n",
    "        results['activations'] = (preds_notw, preds_w)\n",
    "        results['labels'] = (labels_notw, labels_w)\n",
    "        \n",
    "        \n",
    "        return results\n",
    "    \n",
    "    \n",
    "    def learn(self):\n",
    "#         np.random.seed(1)                         \n",
    "        \n",
    "        self.nInit()\n",
    "        \n",
    "        for i in range(self.n_iter):\n",
    "            Yh_notw, Yh_w, loss = self.forward()\n",
    "            self.backward()\n",
    "            self.loss[i] = loss\n",
    "#             if (i+1) % 1000 == 0:\n",
    "#                 print(\n",
    "#                     'Cost after iteration {0:d} (total, notw, w): {1:0.4f}, {2:0.4f}, {3:0.4f}'.format(\n",
    "#                         i+1, loss[0], loss[1], loss[2]\n",
    "#                     )\n",
    "#                 )\n",
    "#                 print(self.param['W1'])\n",
    "        \n",
    "        return"
   ]
  },
  {
   "cell_type": "markdown",
   "metadata": {},
   "source": [
    "## RUN!!"
   ]
  },
  {
   "cell_type": "code",
   "execution_count": 194,
   "metadata": {
    "scrolled": true
   },
   "outputs": [
    {
     "name": "stdout",
     "output_type": "stream",
     "text": [
      "Cost after iteration 1000 (total, notw, w): 13.3928, 4.3561, 9.0367\n",
      "Cost after iteration 2000 (total, notw, w): 11.1357, 3.8770, 7.2586\n",
      "Cost after iteration 3000 (total, notw, w): 9.1194, 3.4917, 5.6277\n",
      "Cost after iteration 4000 (total, notw, w): 7.5942, 3.1333, 4.4610\n",
      "Cost after iteration 5000 (total, notw, w): 6.4082, 2.8411, 3.5671\n",
      "Cost after iteration 6000 (total, notw, w): 5.3322, 2.4885, 2.8437\n",
      "Cost after iteration 7000 (total, notw, w): 4.8283, 2.3782, 2.4501\n",
      "Cost after iteration 8000 (total, notw, w): 4.0316, 2.1537, 1.8779\n",
      "Cost after iteration 9000 (total, notw, w): 3.5023, 1.8949, 1.6075\n",
      "Cost after iteration 10000 (total, notw, w): 3.1634, 1.7771, 1.3862\n",
      "Cost after iteration 11000 (total, notw, w): 2.6950, 1.5955, 1.0995\n",
      "Cost after iteration 12000 (total, notw, w): 2.5314, 1.5461, 0.9853\n",
      "Cost after iteration 13000 (total, notw, w): 2.2965, 1.4174, 0.8792\n",
      "Cost after iteration 14000 (total, notw, w): 2.0121, 1.2830, 0.7292\n",
      "Cost after iteration 15000 (total, notw, w): 1.8920, 1.2503, 0.6417\n",
      "Cost after iteration 16000 (total, notw, w): 1.7471, 1.1711, 0.5760\n",
      "Cost after iteration 17000 (total, notw, w): 1.6846, 1.1478, 0.5367\n",
      "Cost after iteration 18000 (total, notw, w): 1.5366, 1.0585, 0.4782\n",
      "Cost after iteration 19000 (total, notw, w): 1.4299, 0.9959, 0.4339\n",
      "Cost after iteration 20000 (total, notw, w): 1.3369, 0.9318, 0.4051\n"
     ]
    }
   ],
   "source": [
    "nn = fwnet(data_train, n_iter = 20000, lr = 0.05)\n",
    "nn.learn()"
   ]
  },
  {
   "cell_type": "code",
   "execution_count": 410,
   "metadata": {},
   "outputs": [],
   "source": [
    "preds = nn.pred(data_train)\n",
    "activations = preds['activations']\n",
    "activations_notw = activations[0]\n",
    "activations_w = activations[1]\n",
    "labels = preds['labels']\n",
    "labels_notw = labels[0]\n",
    "labels_w = labels[1]"
   ]
  },
  {
   "cell_type": "code",
   "execution_count": 411,
   "metadata": {},
   "outputs": [
    {
     "data": {
      "text/plain": [
       "1.0"
      ]
     },
     "execution_count": 411,
     "metadata": {},
     "output_type": "execute_result"
    }
   ],
   "source": [
    "# accuracy w\n",
    "np.sum((np.sum(abs(labels_w - y_w.T), axis=1)==0).astype(int)) / 360"
   ]
  },
  {
   "cell_type": "code",
   "execution_count": 412,
   "metadata": {},
   "outputs": [
    {
     "data": {
      "text/plain": [
       "0.937984496124031"
      ]
     },
     "execution_count": 412,
     "metadata": {},
     "output_type": "execute_result"
    }
   ],
   "source": [
    "# accuracy notw\n",
    "1 - (np.sum(abs(labels_notw - y_notw.T))/2) / 387"
   ]
  },
  {
   "cell_type": "code",
   "execution_count": 414,
   "metadata": {},
   "outputs": [
    {
     "data": {
      "text/plain": [
       "0.9215686274509804"
      ]
     },
     "execution_count": 414,
     "metadata": {},
     "output_type": "execute_result"
    }
   ],
   "source": [
    "labels_faces = labels_notw[0:306, :]\n",
    "labels_houses = labels_notw[306:, :]\n",
    "y_faces = y_notw.T[0:306, :]\n",
    "y_houses = y_notw.T[306:, :]\n",
    "\n",
    "# accuracy faces\n",
    "1 - (np.sum(abs(labels_faces - y_faces))/2) / 306"
   ]
  },
  {
   "cell_type": "code",
   "execution_count": 415,
   "metadata": {},
   "outputs": [
    {
     "data": {
      "text/plain": [
       "1.0"
      ]
     },
     "execution_count": 415,
     "metadata": {},
     "output_type": "execute_result"
    }
   ],
   "source": [
    "# accuracy houses\n",
    "1 - (np.sum(abs(labels_houses - y_houses))/2) / 81"
   ]
  },
  {
   "cell_type": "code",
   "execution_count": 210,
   "metadata": {},
   "outputs": [
    {
     "data": {
      "text/plain": [
       "<matplotlib.image.AxesImage at 0x18a5a0f3ec8>"
      ]
     },
     "execution_count": 210,
     "metadata": {},
     "output_type": "execute_result"
    },
    {
     "data": {
      "image/png": "[encoded data removed]",
      "text/plain": [
       "<Figure size 432x288 with 1 Axes>"
      ]
     },
     "metadata": {
      "needs_background": "light"
     },
     "output_type": "display_data"
    }
   ],
   "source": [
    "plt.imshow(y_notw, aspect='auto')"
   ]
  },
  {
   "cell_type": "code",
   "execution_count": 211,
   "metadata": {},
   "outputs": [
    {
     "data": {
      "text/plain": [
       "<matplotlib.image.AxesImage at 0x18a5a186908>"
      ]
     },
     "execution_count": 211,
     "metadata": {},
     "output_type": "execute_result"
    },
    {
     "data": {
      "image/png": "[encoded data removed]",
      "text/plain": [
       "<Figure size 432x288 with 1 Axes>"
      ]
     },
     "metadata": {
      "needs_background": "light"
     },
     "output_type": "display_data"
    }
   ],
   "source": [
    "plt.imshow(y_w, aspect='auto')"
   ]
  },
  {
   "cell_type": "code",
   "execution_count": 212,
   "metadata": {},
   "outputs": [
    {
     "data": {
      "text/plain": [
       "<matplotlib.image.AxesImage at 0x18a5a216488>"
      ]
     },
     "execution_count": 212,
     "metadata": {},
     "output_type": "execute_result"
    },
    {
     "data": {
      "image/png": "[encoded data removed]",
      "text/plain": [
       "<Figure size 432x288 with 1 Axes>"
      ]
     },
     "metadata": {
      "needs_background": "light"
     },
     "output_type": "display_data"
    }
   ],
   "source": [
    "plt.imshow(activations_notw.T, aspect='auto')"
   ]
  },
  {
   "cell_type": "code",
   "execution_count": 213,
   "metadata": {},
   "outputs": [
    {
     "data": {
      "text/plain": [
       "<matplotlib.image.AxesImage at 0x18a5a2a6888>"
      ]
     },
     "execution_count": 213,
     "metadata": {},
     "output_type": "execute_result"
    },
    {
     "data": {
      "image/png": "[encoded data removed]",
      "text/plain": [
       "<Figure size 432x288 with 1 Axes>"
      ]
     },
     "metadata": {
      "needs_background": "light"
     },
     "output_type": "display_data"
    }
   ],
   "source": [
    "plt.imshow(activations_w.T, aspect='auto')"
   ]
  },
  {
   "cell_type": "code",
   "execution_count": 214,
   "metadata": {
    "scrolled": false
   },
   "outputs": [
    {
     "data": {
      "text/plain": [
       "<matplotlib.image.AxesImage at 0x18a5a331dc8>"
      ]
     },
     "execution_count": 214,
     "metadata": {},
     "output_type": "execute_result"
    },
    {
     "data": {
      "image/png": "[encoded data removed]",
      "text/plain": [
       "<Figure size 432x288 with 1 Axes>"
      ]
     },
     "metadata": {
      "needs_background": "light"
     },
     "output_type": "display_data"
    }
   ],
   "source": [
    "plt.imshow(labels_notw.T, aspect='auto')"
   ]
  },
  {
   "cell_type": "code",
   "execution_count": 215,
   "metadata": {},
   "outputs": [
    {
     "data": {
      "text/plain": [
       "<matplotlib.image.AxesImage at 0x18a5a3c2ac8>"
      ]
     },
     "execution_count": 215,
     "metadata": {},
     "output_type": "execute_result"
    },
    {
     "data": {
      "image/png": "[encoded data removed]",
      "text/plain": [
       "<Figure size 432x288 with 1 Axes>"
      ]
     },
     "metadata": {
      "needs_background": "light"
     },
     "output_type": "display_data"
    }
   ],
   "source": [
    "plt.imshow(labels_w.T, aspect='auto')"
   ]
  },
  {
   "cell_type": "markdown",
   "metadata": {},
   "source": [
    "## Examination"
   ]
  },
  {
   "cell_type": "markdown",
   "metadata": {},
   "source": [
    "### Performance as a function of number of training iterations"
   ]
  },
  {
   "cell_type": "code",
   "execution_count": 467,
   "metadata": {},
   "outputs": [
    {
     "ename": "KeyboardInterrupt",
     "evalue": "",
     "output_type": "error",
     "traceback": [
      "\u001b[1;31m---------------------------------------------------------------------------\u001b[0m",
      "\u001b[1;31mKeyboardInterrupt\u001b[0m                         Traceback (most recent call last)",
      "\u001b[1;32m<ipython-input-467-c528a4f8ab0f>\u001b[0m in \u001b[0;36m<module>\u001b[1;34m\u001b[0m\n\u001b[0;32m      8\u001b[0m     \u001b[0mnns\u001b[0m\u001b[1;33m[\u001b[0m\u001b[0mi\u001b[0m\u001b[1;33m]\u001b[0m\u001b[1;33m.\u001b[0m\u001b[0mn_iter\u001b[0m \u001b[1;33m=\u001b[0m \u001b[0mn_iters\u001b[0m\u001b[1;33m[\u001b[0m\u001b[0mi\u001b[0m\u001b[1;33m]\u001b[0m\u001b[1;33m\u001b[0m\u001b[1;33m\u001b[0m\u001b[0m\n\u001b[0;32m      9\u001b[0m     \u001b[0mnns\u001b[0m\u001b[1;33m[\u001b[0m\u001b[0mi\u001b[0m\u001b[1;33m]\u001b[0m\u001b[1;33m.\u001b[0m\u001b[0mloss\u001b[0m \u001b[1;33m=\u001b[0m \u001b[0mnp\u001b[0m\u001b[1;33m.\u001b[0m\u001b[0mtile\u001b[0m\u001b[1;33m(\u001b[0m\u001b[0mnp\u001b[0m\u001b[1;33m.\u001b[0m\u001b[0mzeros\u001b[0m\u001b[1;33m(\u001b[0m\u001b[1;33m(\u001b[0m\u001b[0mn_iters\u001b[0m\u001b[1;33m[\u001b[0m\u001b[0mi\u001b[0m\u001b[1;33m]\u001b[0m\u001b[1;33m,\u001b[0m \u001b[1;36m1\u001b[0m\u001b[1;33m)\u001b[0m\u001b[1;33m)\u001b[0m\u001b[1;33m,\u001b[0m \u001b[1;36m3\u001b[0m\u001b[1;33m)\u001b[0m\u001b[1;33m\u001b[0m\u001b[1;33m\u001b[0m\u001b[0m\n\u001b[1;32m---> 10\u001b[1;33m     \u001b[0mnns\u001b[0m\u001b[1;33m[\u001b[0m\u001b[0mi\u001b[0m\u001b[1;33m]\u001b[0m\u001b[1;33m.\u001b[0m\u001b[0mlearn\u001b[0m\u001b[1;33m(\u001b[0m\u001b[1;33m)\u001b[0m\u001b[1;33m\u001b[0m\u001b[1;33m\u001b[0m\u001b[0m\n\u001b[0m\u001b[0;32m     11\u001b[0m     \u001b[1;31m# calculate accuracy\u001b[0m\u001b[1;33m\u001b[0m\u001b[1;33m\u001b[0m\u001b[1;33m\u001b[0m\u001b[0m\n\u001b[0;32m     12\u001b[0m     \u001b[0mlabels\u001b[0m \u001b[1;33m=\u001b[0m \u001b[0mnns\u001b[0m\u001b[1;33m[\u001b[0m\u001b[0mi\u001b[0m\u001b[1;33m]\u001b[0m\u001b[1;33m.\u001b[0m\u001b[0mpred\u001b[0m\u001b[1;33m(\u001b[0m\u001b[0mdata_train\u001b[0m\u001b[1;33m)\u001b[0m\u001b[1;33m[\u001b[0m\u001b[1;34m'labels'\u001b[0m\u001b[1;33m]\u001b[0m\u001b[1;33m\u001b[0m\u001b[1;33m\u001b[0m\u001b[0m\n",
      "\u001b[1;32m<ipython-input-460-f1a9c9520f89>\u001b[0m in \u001b[0;36mlearn\u001b[1;34m(self)\u001b[0m\n\u001b[0;32m    377\u001b[0m \u001b[1;33m\u001b[0m\u001b[0m\n\u001b[0;32m    378\u001b[0m         \u001b[1;32mfor\u001b[0m \u001b[0mi\u001b[0m \u001b[1;32min\u001b[0m \u001b[0mrange\u001b[0m\u001b[1;33m(\u001b[0m\u001b[0mself\u001b[0m\u001b[1;33m.\u001b[0m\u001b[0mn_iter\u001b[0m\u001b[1;33m)\u001b[0m\u001b[1;33m:\u001b[0m\u001b[1;33m\u001b[0m\u001b[1;33m\u001b[0m\u001b[0m\n\u001b[1;32m--> 379\u001b[1;33m             \u001b[0mYh_notw\u001b[0m\u001b[1;33m,\u001b[0m \u001b[0mYh_w\u001b[0m\u001b[1;33m,\u001b[0m \u001b[0mloss\u001b[0m \u001b[1;33m=\u001b[0m \u001b[0mself\u001b[0m\u001b[1;33m.\u001b[0m\u001b[0mforward\u001b[0m\u001b[1;33m(\u001b[0m\u001b[1;33m)\u001b[0m\u001b[1;33m\u001b[0m\u001b[1;33m\u001b[0m\u001b[0m\n\u001b[0m\u001b[0;32m    380\u001b[0m             \u001b[0mself\u001b[0m\u001b[1;33m.\u001b[0m\u001b[0mbackward\u001b[0m\u001b[1;33m(\u001b[0m\u001b[1;33m)\u001b[0m\u001b[1;33m\u001b[0m\u001b[1;33m\u001b[0m\u001b[0m\n\u001b[0;32m    381\u001b[0m             \u001b[0mself\u001b[0m\u001b[1;33m.\u001b[0m\u001b[0mloss\u001b[0m\u001b[1;33m[\u001b[0m\u001b[0mi\u001b[0m\u001b[1;33m]\u001b[0m \u001b[1;33m=\u001b[0m \u001b[0mloss\u001b[0m\u001b[1;33m\u001b[0m\u001b[1;33m\u001b[0m\u001b[0m\n",
      "\u001b[1;32m<ipython-input-460-f1a9c9520f89>\u001b[0m in \u001b[0;36mforward\u001b[1;34m(self)\u001b[0m\n\u001b[0;32m    129\u001b[0m         \u001b[1;31m# input to intermediate layer\u001b[0m\u001b[1;33m\u001b[0m\u001b[1;33m\u001b[0m\u001b[1;33m\u001b[0m\u001b[0m\n\u001b[0;32m    130\u001b[0m         \u001b[1;31m## left fusiform\u001b[0m\u001b[1;33m\u001b[0m\u001b[1;33m\u001b[0m\u001b[1;33m\u001b[0m\u001b[0m\n\u001b[1;32m--> 131\u001b[1;33m         \u001b[0mLZ1_notw\u001b[0m \u001b[1;33m=\u001b[0m \u001b[0mnp\u001b[0m\u001b[1;33m.\u001b[0m\u001b[0mmatmul\u001b[0m\u001b[1;33m(\u001b[0m\u001b[0mself\u001b[0m\u001b[1;33m.\u001b[0m\u001b[0mparam\u001b[0m\u001b[1;33m[\u001b[0m\u001b[1;34m'LW1'\u001b[0m\u001b[1;33m]\u001b[0m\u001b[1;33m,\u001b[0m \u001b[0mself\u001b[0m\u001b[1;33m.\u001b[0m\u001b[0mx_notw\u001b[0m\u001b[1;33m)\u001b[0m \u001b[1;33m+\u001b[0m \u001b[0mself\u001b[0m\u001b[1;33m.\u001b[0m\u001b[0mparam\u001b[0m\u001b[1;33m[\u001b[0m\u001b[1;34m'Lb1'\u001b[0m\u001b[1;33m]\u001b[0m    \u001b[1;31m# 64x387\u001b[0m\u001b[1;33m\u001b[0m\u001b[1;33m\u001b[0m\u001b[0m\n\u001b[0m\u001b[0;32m    132\u001b[0m         \u001b[0mLA1_notw\u001b[0m \u001b[1;33m=\u001b[0m \u001b[0mRelu\u001b[0m\u001b[1;33m(\u001b[0m\u001b[0mLZ1_notw\u001b[0m\u001b[1;33m)\u001b[0m    \u001b[1;31m# 64x387\u001b[0m\u001b[1;33m\u001b[0m\u001b[1;33m\u001b[0m\u001b[0m\n\u001b[0;32m    133\u001b[0m         \u001b[0mself\u001b[0m\u001b[1;33m.\u001b[0m\u001b[0mch\u001b[0m\u001b[1;33m[\u001b[0m\u001b[1;34m'LZ1_notw'\u001b[0m\u001b[1;33m]\u001b[0m \u001b[1;33m=\u001b[0m \u001b[0mLZ1_notw\u001b[0m\u001b[1;33m\u001b[0m\u001b[1;33m\u001b[0m\u001b[0m\n",
      "\u001b[1;31mKeyboardInterrupt\u001b[0m: "
     ]
    }
   ],
   "source": [
    "# use lr = 0.05\n",
    "n_iters = np.linspace(1000, 20000, 11).astype(int)\n",
    "nns = [fwnet(data_train, lr=0.05) for i in range(11)]\n",
    "acc = {'words': np.zeros(11), \n",
    "       'faces': np.zeros(11), \n",
    "       'houses': np.zeros(11)}\n",
    "for i in range(11):\n",
    "    nns[i].n_iter = n_iters[i]\n",
    "    nns[i].loss = np.tile(np.zeros((n_iters[i], 1)), 3)\n",
    "    nns[i].learn()\n",
    "    # calculate accuracy\n",
    "    labels = nns[i].pred(data_train)['labels']\n",
    "    labels_w = labels[1]\n",
    "    labels_faces = labels[0][0:306, :]\n",
    "    labels_houses = labels[0][306:, :]\n",
    "    y_faces = y_notw.T[0:306, :]\n",
    "    y_houses = y_notw.T[306:, :]\n",
    "    # accuracy w\n",
    "    acc['words'][i] = np.sum((np.sum(abs(labels_w - y_w.T), axis=1)==0).astype(int)) / 360\n",
    "    # accuracy faces\n",
    "    acc['faces'][i] = 1 - (np.sum(abs(labels_faces - y_faces))/2) / 306\n",
    "    # accuracy houses\n",
    "    acc['houses'][i] = 1 - (np.sum(abs(labels_houses - y_houses))/2) / 81"
   ]
  },
  {
   "cell_type": "code",
   "execution_count": null,
   "metadata": {},
   "outputs": [],
   "source": [
    "plt.plot(n_iters, acc['words'])\n",
    "plt.plot(n_iters, acc['faces'])\n",
    "plt.plot(n_iters, acc['houses'])\n",
    "plt.legend(['words', 'faces', 'houses'])\n",
    "plt.ylabel('Correct rate')\n",
    "plt.xlabel('Iteration #')"
   ]
  },
  {
   "cell_type": "markdown",
   "metadata": {},
   "source": [
    "### Lesions"
   ]
  },
  {
   "cell_type": "code",
   "execution_count": 468,
   "metadata": {},
   "outputs": [],
   "source": [
    "lesion_ind = np.linspace(0, 29, 30).astype(int)\n",
    "\n",
    "# left fusiform lesion\n",
    "l_acc = {'words': np.zeros(30), \n",
    "         'faces': np.zeros(30), \n",
    "         'houses': np.zeros(30)}\n",
    "for i in range(30):\n",
    "    # copy weights from nn\n",
    "    temp_LW1 = deepcopy(nn.param['LW1'])\n",
    "    temp_Lb1 = deepcopy(nn.param['Lb1'])\n",
    "    temp_RW1 = deepcopy(nn.param['RW1'])\n",
    "    temp_Rb1 = deepcopy(nn.param['Rb1'])\n",
    "    temp_W2_w = deepcopy(nn.param['W2_w'])\n",
    "    temp_b2_w = deepcopy(nn.param['b2_w'])\n",
    "    temp_W2_notw = deepcopy(nn.param['W2_notw'])\n",
    "    temp_b2_notw = deepcopy(nn.param['b2_notw'])\n",
    "    \n",
    "    # lesion\n",
    "    nn.param['LW1'][lesion_ind[i], :] = 0\n",
    "    nn.param['LW1'][32+lesion_ind[i], :] = 0\n",
    "    nn.param['W2_w'][:, lesion_ind[i]] = 0\n",
    "    nn.param['W2_w'][:, 32+lesion_ind[i]] = 0\n",
    "    nn.param['W2_notw'][:, lesion_ind[i]] = 0\n",
    "    nn.param['W2_notw'][:, 32+lesion_ind[i]] = 0\n",
    "    nn.param['LW1'][lesion_ind[i]+1, :] = 0\n",
    "    nn.param['LW1'][32+lesion_ind[i]+1, :] = 0\n",
    "    nn.param['W2_w'][:, lesion_ind[i]+1] = 0\n",
    "    nn.param['W2_w'][:, 32+lesion_ind[i]+1] = 0\n",
    "    nn.param['W2_notw'][:, lesion_ind[i]+1] = 0\n",
    "    nn.param['W2_notw'][:, 32+lesion_ind[i]+1] = 0\n",
    "    nn.param['LW1'][lesion_ind[i]+2, :] = 0\n",
    "    nn.param['LW1'][32+lesion_ind[i]+2, :] = 0\n",
    "    nn.param['W2_w'][:, lesion_ind[i]+2] = 0\n",
    "    nn.param['W2_w'][:, 32+lesion_ind[i]+2] = 0\n",
    "    nn.param['W2_notw'][:, lesion_ind[i]+2] = 0\n",
    "    nn.param['W2_notw'][:, 32+lesion_ind[i]+2] = 0\n",
    "    \n",
    "    # calculate accuracy\n",
    "    labels = nn.pred(data_train)['labels']\n",
    "    labels_w = labels[1]\n",
    "    labels_faces = labels[0][0:306, :]\n",
    "    labels_houses = labels[0][306:, :]\n",
    "    y_faces = y_notw.T[0:306, :]\n",
    "    y_houses = y_notw.T[306:, :]\n",
    "    # accuracy w\n",
    "    l_acc['words'][i] = np.sum((np.sum(abs(labels_w - y_w.T), axis=1)==0).astype(int)) / 360\n",
    "    # accuracy faces\n",
    "    l_acc['faces'][i] = 1 - (np.sum(abs(labels_faces - y_faces))/2) / 306\n",
    "    # accuracy houses\n",
    "    l_acc['houses'][i] = 1 - (np.sum(abs(labels_houses - y_houses))/2) / 81\n",
    "    \n",
    "    # restore weitghts\n",
    "    nn.param['LW1'] = deepcopy(temp_LW1)\n",
    "    nn.param['Lb1'] = deepcopy(temp_Lb1)\n",
    "    nn.param['RW1'] = deepcopy(temp_RW1)\n",
    "    nn.param['Rb1'] = deepcopy(temp_Rb1)\n",
    "    nn.param['W2_w'] = deepcopy(temp_W2_w)\n",
    "    nn.param['b2_w'] = deepcopy(temp_b2_w)\n",
    "    nn.param['W2_notw'] = deepcopy(temp_W2_notw)\n",
    "    nn.param['b2_notw'] = deepcopy(temp_b2_notw)"
   ]
  },
  {
   "cell_type": "code",
   "execution_count": 474,
   "metadata": {},
   "outputs": [
    {
     "data": {
      "text/plain": [
       "([], <a list of 0 Text xticklabel objects>)"
      ]
     },
     "execution_count": 474,
     "metadata": {},
     "output_type": "execute_result"
    },
    {
     "data": {
      "image/png": "[encoded data removed]",
      "text/plain": [
       "<Figure size 432x288 with 1 Axes>"
      ]
     },
     "metadata": {
      "needs_background": "light"
     },
     "output_type": "display_data"
    }
   ],
   "source": [
    "plt.plot(l_acc['words'])\n",
    "plt.plot(l_acc['faces'])\n",
    "plt.plot(l_acc['houses'])\n",
    "plt.legend(['words', 'faces', 'houses'])\n",
    "plt.title('Left Fusiform Lesions')\n",
    "plt.ylabel('Correct Rate')\n",
    "plt.xticks([])"
   ]
  },
  {
   "cell_type": "code",
   "execution_count": 470,
   "metadata": {},
   "outputs": [],
   "source": [
    "lesion_ind = np.linspace(0, 29, 30).astype(int)\n",
    "\n",
    "# right fusiform lesion\n",
    "r_acc = {'words': np.zeros(30), \n",
    "         'faces': np.zeros(30), \n",
    "         'houses': np.zeros(30)}\n",
    "for i in range(30):\n",
    "    # copy weights from nn\n",
    "    temp_LW1 = deepcopy(nn.param['LW1'])\n",
    "    temp_Lb1 = deepcopy(nn.param['Lb1'])\n",
    "    temp_RW1 = deepcopy(nn.param['RW1'])\n",
    "    temp_Rb1 = deepcopy(nn.param['Rb1'])\n",
    "    temp_W2_w = deepcopy(nn.param['W2_w'])\n",
    "    temp_b2_w = deepcopy(nn.param['b2_w'])\n",
    "    temp_W2_notw = deepcopy(nn.param['W2_notw'])\n",
    "    temp_b2_notw = deepcopy(nn.param['b2_notw'])\n",
    "    \n",
    "    # lesion\n",
    "    nn.param['RW1'][lesion_ind[i], :] = 0\n",
    "    nn.param['RW1'][32+lesion_ind[i], :] = 0\n",
    "    nn.param['W2_w'][:, lesion_ind[i]+64] = 0\n",
    "    nn.param['W2_w'][:, 32+lesion_ind[i]+64] = 0\n",
    "    nn.param['W2_notw'][:, lesion_ind[i]+64] = 0\n",
    "    nn.param['W2_notw'][:, 32+lesion_ind[i]+64] = 0\n",
    "    nn.param['RW1'][lesion_ind[i]+1, :] = 0\n",
    "    nn.param['RW1'][32+lesion_ind[i]+1, :] = 0\n",
    "    nn.param['W2_w'][:, lesion_ind[i]+64+1] = 0\n",
    "    nn.param['W2_w'][:, 32+lesion_ind[i]+64+1] = 0\n",
    "    nn.param['W2_notw'][:, lesion_ind[i]+64+1] = 0\n",
    "    nn.param['W2_notw'][:, 32+lesion_ind[i]+64+1] = 0\n",
    "    nn.param['RW1'][lesion_ind[i]+2, :] = 0\n",
    "    nn.param['RW1'][32+lesion_ind[i]+2, :] = 0\n",
    "    nn.param['W2_w'][:, lesion_ind[i]+64+2] = 0\n",
    "    nn.param['W2_w'][:, 32+lesion_ind[i]+64+2] = 0\n",
    "    nn.param['W2_notw'][:, lesion_ind[i]+64+2] = 0\n",
    "    nn.param['W2_notw'][:, 32+lesion_ind[i]+64+2] = 0\n",
    "    \n",
    "    # calculate accuracy\n",
    "    labels = nn.pred(data_train)['labels']\n",
    "    labels_w = labels[1]\n",
    "    labels_faces = labels[0][0:306, :]\n",
    "    labels_houses = labels[0][306:, :]\n",
    "    y_faces = y_notw.T[0:306, :]\n",
    "    y_houses = y_notw.T[306:, :]\n",
    "    # accuracy w\n",
    "    r_acc['words'][i] = np.sum((np.sum(abs(labels_w - y_w.T), axis=1)==0).astype(int)) / 360\n",
    "    # accuracy faces\n",
    "    r_acc['faces'][i] = 1 - (np.sum(abs(labels_faces - y_faces))/2) / 306\n",
    "    # accuracy houses\n",
    "    r_acc['houses'][i] = 1 - (np.sum(abs(labels_houses - y_houses))/2) / 81\n",
    "    \n",
    "    # restore weitghts\n",
    "    nn.param['LW1'] = deepcopy(temp_LW1)\n",
    "    nn.param['Lb1'] = deepcopy(temp_Lb1)\n",
    "    nn.param['RW1'] = deepcopy(temp_RW1)\n",
    "    nn.param['Rb1'] = deepcopy(temp_Rb1)\n",
    "    nn.param['W2_w'] = deepcopy(temp_W2_w)\n",
    "    nn.param['b2_w'] = deepcopy(temp_b2_w)\n",
    "    nn.param['W2_notw'] = deepcopy(temp_W2_notw)\n",
    "    nn.param['b2_notw'] = deepcopy(temp_b2_notw)"
   ]
  },
  {
   "cell_type": "code",
   "execution_count": 475,
   "metadata": {
    "scrolled": true
   },
   "outputs": [
    {
     "data": {
      "text/plain": [
       "([], <a list of 0 Text xticklabel objects>)"
      ]
     },
     "execution_count": 475,
     "metadata": {},
     "output_type": "execute_result"
    },
    {
     "data": {
      "image/png": "[encoded data removed]",
      "text/plain": [
       "<Figure size 432x288 with 1 Axes>"
      ]
     },
     "metadata": {
      "needs_background": "light"
     },
     "output_type": "display_data"
    }
   ],
   "source": [
    "plt.plot(r_acc['words'])\n",
    "plt.plot(r_acc['faces'])\n",
    "plt.plot(r_acc['houses'])\n",
    "plt.legend(['words', 'faces', 'houses'])\n",
    "plt.title('Right Fusiform Lesions')\n",
    "plt.ylabel('Correct Rate')\n",
    "plt.xticks([])"
   ]
  },
  {
   "cell_type": "markdown",
   "metadata": {},
   "source": [
    "### Indirect evidence for learned category specificity of intermediate units as a function of their eccentricity"
   ]
  },
  {
   "cell_type": "code",
   "execution_count": 88,
   "metadata": {},
   "outputs": [
    {
     "data": {
      "text/plain": [
       "<matplotlib.image.AxesImage at 0x18a5743bd08>"
      ]
     },
     "execution_count": 88,
     "metadata": {},
     "output_type": "execute_result"
    },
    {
     "data": {
      "image/png": "[encoded data removed]",
      "text/plain": [
       "<Figure size 432x288 with 3 Axes>"
      ]
     },
     "metadata": {
      "needs_background": "light"
     },
     "output_type": "display_data"
    }
   ],
   "source": [
    "plt.subplot(3, 1, 1)\n",
    "plt.imshow(nn.param['W2_notw'][0:40, 68].reshape([1,40]), cmap='Greys')\n",
    "plt.subplot(3, 1, 2)\n",
    "plt.imshow(nn.param['W2_notw'][40:74, 68].reshape([1,34]), cmap='Greys')\n",
    "plt.subplot(3, 1, 3)\n",
    "plt.imshow(nn.param['W2_notw'][74:, 68].reshape([1,9]), cmap='Greys')"
   ]
  },
  {
   "cell_type": "code",
   "execution_count": 145,
   "metadata": {},
   "outputs": [
    {
     "data": {
      "text/plain": [
       "<matplotlib.colorbar.Colorbar at 0x18a6788c1c8>"
      ]
     },
     "execution_count": 145,
     "metadata": {},
     "output_type": "execute_result"
    },
    {
     "data": {
      "image/png": "[encoded data removed]",
      "text/plain": [
       "<Figure size 432x288 with 2 Axes>"
      ]
     },
     "metadata": {
      "needs_background": "light"
     },
     "output_type": "display_data"
    }
   ],
   "source": [
    "plt.imshow(nn.param['RW1'][5].reshape([32,32]), cmap='Greys')\n",
    "plt.colorbar()"
   ]
  },
  {
   "cell_type": "code",
   "execution_count": 55,
   "metadata": {},
   "outputs": [
    {
     "data": {
      "text/plain": [
       "<matplotlib.colorbar.Colorbar at 0x18a54c0af88>"
      ]
     },
     "execution_count": 55,
     "metadata": {},
     "output_type": "execute_result"
    },
    {
     "data": {
      "image/png": "[encoded data removed]",
      "text/plain": [
       "<Figure size 432x288 with 2 Axes>"
      ]
     },
     "metadata": {
      "needs_background": "light"
     },
     "output_type": "display_data"
    }
   ],
   "source": [
    "plt.imshow(nn.param['RW1'][16].reshape([32,32]), cmap='Greys')\n",
    "plt.colorbar()"
   ]
  },
  {
   "cell_type": "code",
   "execution_count": 56,
   "metadata": {},
   "outputs": [
    {
     "data": {
      "text/plain": [
       "<matplotlib.colorbar.Colorbar at 0x18a54cc4f88>"
      ]
     },
     "execution_count": 56,
     "metadata": {},
     "output_type": "execute_result"
    },
    {
     "data": {
      "image/png": "[encoded data removed]",
      "text/plain": [
       "<Figure size 432x288 with 2 Axes>"
      ]
     },
     "metadata": {
      "needs_background": "light"
     },
     "output_type": "display_data"
    }
   ],
   "source": [
    "plt.imshow(nn.param['RW1'][17].reshape([32,32]), cmap='Greys')\n",
    "plt.colorbar()"
   ]
  }
 ],
 "metadata": {
  "kernelspec": {
   "display_name": "Python 3",
   "language": "python",
   "name": "python3"
  },
  "language_info": {
   "codemirror_mode": {
    "name": "ipython",
    "version": 3
   },
   "file_extension": ".py",
   "mimetype": "text/x-python",
   "name": "python",
   "nbconvert_exporter": "python",
   "pygments_lexer": "ipython3",
   "version": "3.7.6"
  }
 },
 "nbformat": 4,
 "nbformat_minor": 4
}
